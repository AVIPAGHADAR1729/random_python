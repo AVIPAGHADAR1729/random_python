{
  "cells": [
    {
      "cell_type": "markdown",
      "metadata": {
        "pycharm": {}
      },
      "source": [
        "# Introduction\n",
        "\n",
        "Opening your comic book store, the Sorcery Society, has been a lifelong dream come true. You quickly diversified your shop offerings to include miniatures, plush toys, collectible card games, and board games. Eventually, the store became more a games store with a selection of this week\u0027s newest comic books and a small offering of graphic novel paperbacks. Completing your transformation means offering space for local tabletop gamers. They love to play their favorite RPG, \"Abruptly Goblins!\" and will happily pay you per chair to secure the space to do it. Unfortunately, planning the game night has fallen to you. If you pick the wrong night, not enough people will come and the game night will be cancelled. You decide it\u0027s best that you automate the game night selector to get the most people through the door. First you need to create a list of people who will be attending the game night.\n",
        "\n",
        "**Instructions**\n",
        "\n",
        "Create an empty list called `gamers`. This will be your list of people who are attending game night."
      ]
    },
    {
      "cell_type": "code",
      "execution_count": 74,
      "metadata": {
        "pycharm": {
          "is_executing": false
        }
      },
      "outputs": [
        {
          "name": "stdout",
          "text": [
            "[]\n"
          ],
          "output_type": "stream"
        }
      ],
      "source": "#print(gamers)\ngamers \u003d []\nprint(gamers)"
    },
    {
      "cell_type": "markdown",
      "metadata": {
        "pycharm": {}
      },
      "source": [
        "Now we want to create a function that will update this list and add a new gamer to the this `gamers` list. Each `gamer` should be a dictionary with the following keys:\n",
        " - `\"name\"`: a string that contains the gamer\u0027s full or presumed name. E.g., \"Vicky Very\"\n",
        " - `\"availability\"`: a list of strings containing the names of the days of the week that the gamer is available. E.g., [\"Monday\", \"Thursday\", \"Sunday\"]\n",
        " \n",
        "**Instructions**\n",
        "\n",
        "Create a function called `add_gamer` that takes two parameters: `gamer` and `gamers_list`. The function should check that the argument passed to the `gamer` parameter has both `\"name\"` and a `\"availability\"` as keys and if so add `gamer` to `gamers_list`."
      ]
    },
    {
      "cell_type": "code",
      "execution_count": 75,
      "metadata": {
        "pycharm": {
          "is_executing": false
        }
      },
      "outputs": [],
      "source": "def add_gamer(gamer: dict, gamers_list: list) -\u003e list:\n    if \"name\" in gamer and \"availability\" in gamer:\n        gamers_list.append(gamer)\n    return gamers_list"
    },
    {
      "cell_type": "markdown",
      "metadata": {
        "pycharm": {}
      },
      "source": [
        "Next we want to add our first gamer! Her name is Kimberly Warner and she\u0027s available on Mondays, Tuesdays, and Fridays.\n",
        "\n",
        "**Instructions**\n",
        "\n",
        "1. Create a dictionary called `kimberly` with the name and availability given above.\n",
        "2. Call `add_gamer` with `kimberly` as the first argument and `gamers` as the second."
      ]
    },
    {
      "cell_type": "code",
      "execution_count": 76,
      "metadata": {
        "pycharm": {
          "is_executing": false
        }
      },
      "outputs": [
        {
          "data": {
            "text/plain": "[{\u0027name\u0027: \u0027Kimberly Warner\u0027, \u0027availability\u0027: [\u0027Monday\u0027, \u0027Tuesday\u0027, \u0027Friday\u0027]}]"
          },
          "metadata": {},
          "output_type": "execute_result",
          "execution_count": 76
        }
      ],
      "source": "kimberly \u003d {\"name\": \"Kimberly Warner\", \"availability\": [\"Monday\", \"Tuesday\", \"Friday\"]}\nadd_gamer(kimberly, gamers)\n#print(gamers)"
    },
    {
      "cell_type": "markdown",
      "metadata": {
        "pycharm": {}
      },
      "source": [
        "Great! Let\u0027s add a couple more gamers to the list!"
      ]
    },
    {
      "cell_type": "code",
      "execution_count": 77,
      "metadata": {
        "pycharm": {
          "is_executing": false
        }
      },
      "outputs": [
        {
          "name": "stdout",
          "text": [
            "[{\u0027name\u0027: \u0027Kimberly Warner\u0027, \u0027availability\u0027: [\u0027Monday\u0027, \u0027Tuesday\u0027, \u0027Friday\u0027]}, {\u0027name\u0027: \u0027Thomas Nelson\u0027, \u0027availability\u0027: [\u0027Tuesday\u0027, \u0027Thursday\u0027, \u0027Saturday\u0027]}, {\u0027name\u0027: \u0027Joyce Sellers\u0027, \u0027availability\u0027: [\u0027Monday\u0027, \u0027Wednesday\u0027, \u0027Friday\u0027, \u0027Saturday\u0027]}, {\u0027name\u0027: \u0027Michelle Reyes\u0027, \u0027availability\u0027: [\u0027Wednesday\u0027, \u0027Thursday\u0027, \u0027Sunday\u0027]}, {\u0027name\u0027: \u0027Stephen Adams\u0027, \u0027availability\u0027: [\u0027Thursday\u0027, \u0027Saturday\u0027]}, {\u0027name\u0027: \u0027Joanne Lynn\u0027, \u0027availability\u0027: [\u0027Monday\u0027, \u0027Thursday\u0027]}, {\u0027name\u0027: \u0027Latasha Bryan\u0027, \u0027availability\u0027: [\u0027Monday\u0027, \u0027Sunday\u0027]}, {\u0027name\u0027: \u0027Crystal Brewer\u0027, \u0027availability\u0027: [\u0027Thursday\u0027, \u0027Friday\u0027, \u0027Saturday\u0027]}, {\u0027name\u0027: \u0027James Barnes Jr.\u0027, \u0027availability\u0027: [\u0027Tuesday\u0027, \u0027Wednesday\u0027, \u0027Thursday\u0027, \u0027Sunday\u0027]}, {\u0027name\u0027: \u0027Michel Trujillo\u0027, \u0027availability\u0027: [\u0027Monday\u0027, \u0027Tuesday\u0027, \u0027Wednesday\u0027]}]",
            "\n"
          ],
          "output_type": "stream"
        }
      ],
      "source": "add_gamer({\u0027name\u0027:\u0027Thomas Nelson\u0027,\u0027availability\u0027: [\"Tuesday\", \"Thursday\", \"Saturday\"]}, gamers)\nadd_gamer({\u0027name\u0027:\u0027Joyce Sellers\u0027,\u0027availability\u0027: [\"Monday\", \"Wednesday\", \"Friday\", \"Saturday\"]}, gamers)\nadd_gamer({\u0027name\u0027:\u0027Michelle Reyes\u0027,\u0027availability\u0027: [\"Wednesday\", \"Thursday\", \"Sunday\"]}, gamers)\nadd_gamer({\u0027name\u0027:\u0027Stephen Adams\u0027,\u0027availability\u0027: [\"Thursday\", \"Saturday\"]}, gamers)\nadd_gamer({\u0027name\u0027: \u0027Joanne Lynn\u0027, \u0027availability\u0027: [\"Monday\", \"Thursday\"]}, gamers)\nadd_gamer({\u0027name\u0027:\u0027Latasha Bryan\u0027,\u0027availability\u0027: [\"Monday\", \"Sunday\"]}, gamers)\nadd_gamer({\u0027name\u0027:\u0027Crystal Brewer\u0027,\u0027availability\u0027: [\"Thursday\", \"Friday\", \"Saturday\"]}, gamers)\nadd_gamer({\u0027name\u0027:\u0027James Barnes Jr.\u0027,\u0027availability\u0027: [\"Tuesday\", \"Wednesday\", \"Thursday\", \"Sunday\"]}, gamers)\nadd_gamer({\u0027name\u0027:\u0027Michel Trujillo\u0027,\u0027availability\u0027: [\"Monday\", \"Tuesday\", \"Wednesday\"]}, gamers)\n\n#del gamers[0]\nprint(gamers)"
    },
    {
      "cell_type": "markdown",
      "metadata": {
        "pycharm": {}
      },
      "source": [
        "## Finding the perfect availability\n",
        "\n",
        "Now that we have a list of all of the people interested in game night, we want to be able to calculate which nights would have the most participation. First we need to create a frequency table which correlates each day of the week with gamer availability.\n",
        "\n",
        "**Instructions**\n",
        "\n",
        "Create a function called `build_daily_frequency_table` that takes no argument returns a dictionary with the days of the week as keys and `0`s for values. We\u0027ll be using this to count the availability per night. Call `build_daily_frequency_table` and save the results to a variable called `count_availability`."
      ]
    },
    {
      "cell_type": "code",
      "execution_count": 78,
      "metadata": {
        "pycharm": {
          "is_executing": false
        }
      },
      "outputs": [],
      "source": "def build_daily_frequency_table():\n    days \u003d {\"Monday\": 0, \"Tuesday\": 0, \"Wednesday\": 0, \"Thursday\": 0, \"Friday\": 0, \"Saturday\": 0, \"Sunday\": 0}\n    return days\n\ncount_availability \u003d build_daily_frequency_table()"
    },
    {
      "cell_type": "markdown",
      "metadata": {
        "pycharm": {}
      },
      "source": [
        "Next we need to count the number of people every night.\n",
        "\n",
        "**Instructions**\n",
        "\n",
        "Write a function called `calculate_availability` that takes a list of gamers as an argument `gamers_list` and a frequency table `available_frequency`. The function should iterate through each gamer in `gamers_list` and iterate through each day in the gamer\u0027s availability. For each day in the gamer\u0027s availability, add one to that date on the frequency table."
      ]
    },
    {
      "cell_type": "code",
      "execution_count": 79,
      "metadata": {
        "pycharm": {
          "is_executing": false
        }
      },
      "outputs": [],
      "source": "def calculate_availability(gamers_list: list, available_frequency: dict) -\u003e dict:\n    for gamer in gamers_list:\n        for day in gamer.get(\"availability\"):\n            available_frequency[day] +\u003d 1\n    return available_frequency"
    },
    {
      "cell_type": "markdown",
      "metadata": {
        "pycharm": {}
      },
      "source": [
        "Now let\u0027s use these tools to find the best night to run Abruptly Goblins!\n",
        "\n",
        "**Instructions**\n",
        "\n",
        "Call `calculate_availability` with `gamers` and `count_availability`. Print out `count_availability` afterwards."
      ]
    },
    {
      "cell_type": "code",
      "execution_count": 80,
      "metadata": {
        "scrolled": true,
        "pycharm": {
          "is_executing": false
        }
      },
      "outputs": [
        {
          "name": "stdout",
          "text": [
            "{\u0027Monday\u0027: 5, \u0027Tuesday\u0027: 4, \u0027Wednesday\u0027: 4, \u0027Thursday\u0027: 6, \u0027Friday\u0027: 3, \u0027Saturday\u0027: 4, \u0027Sunday\u0027: 3}\n"
          ],
          "output_type": "stream"
        }
      ],
      "source": "count_availability \u003d calculate_availability(gamers, count_availability)\n\nprint(count_availability)"
    },
    {
      "cell_type": "markdown",
      "metadata": {
        "pycharm": {}
      },
      "source": [
        "Lastly we need a way to pick the day with the most available people to attend so that we can schedule game night on that night.\n",
        "\n",
        "**Instructions**\n",
        "\n",
        "Write a function `find_best_night` that takes a dictionary `availability_table` and returns the key with the highest number."
      ]
    },
    {
      "cell_type": "code",
      "execution_count": 81,
      "metadata": {
        "pycharm": {
          "is_executing": false
        }
      },
      "outputs": [
        {
          "name": "stdout",
          "text": [
            "Thursday\n"
          ],
          "output_type": "stream"
        }
      ],
      "source": "def find_best_night(availability_table: dict):\n    v \u003d list(availability_table.values())\n    k \u003d list(availability_table)\n    return k[v.index(max(v))]"
    },
    {
      "cell_type": "markdown",
      "source": "Now let\u0027s find the best day to host game night.\n\n**Instructions**\n\nCall `find_best_night` with `count_availability`, store the result in a variable called `game_night`.\nPrint out `game_night` to find out which day it is.",
      "metadata": {
        "pycharm": {
          "metadata": false
        }
      }
    },
    {
      "cell_type": "code",
      "execution_count": 82,
      "metadata": {
        "pycharm": {
          "is_executing": false
        }
      },
      "outputs": [
        {
          "name": "stdout",
          "text": [
            "Thursday\n"
          ],
          "output_type": "stream"
        }
      ],
      "source": "game_night \u003d find_best_night(count_availability)\nprint(game_night)"
    },
    {
      "cell_type": "markdown",
      "metadata": {
        "pycharm": {}
      },
      "source": [
        "And let\u0027s make a list of all of the people who are available that night.\n",
        "\n",
        "**Instructions**\n",
        "\n",
        "* Create a function `available_on_night` that takes two parameters: `gamers_list` and `day` and returns a list of people who are available on that particular day.\n",
        "* Call `available_on_night` with `gamers` and `game_night` and save the result into the variable `attending_game_night`.\n",
        "* Print `attending_game_night`."
      ]
    },
    {
      "cell_type": "code",
      "execution_count": 85,
      "metadata": {
        "pycharm": {
          "is_executing": false
        }
      },
      "outputs": [
        {
          "name": "stdout",
          "text": [
            "[\u0027Thomas Nelson\u0027, \u0027Michelle Reyes\u0027, \u0027Stephen Adams\u0027, \u0027Joanne Lynn\u0027, \u0027Crystal Brewer\u0027, \u0027James Barnes Jr.\u0027]\n"
          ],
          "output_type": "stream"
        }
      ],
      "source": "def available_on_night(gamers_list: list, day: str) -\u003e list:\n    available_gamers \u003d []\n    for gamer in gamers_list:\n        for gamer_name, available_days in gamer.items():\n            if day in available_days:\n                available_gamers.append(gamer.get(\"name\"))\n    return available_gamers\n\nattending_game_night \u003d available_on_night(gamers, game_night)\nprint(attending_game_night)"
    },
    {
      "cell_type": "markdown",
      "metadata": {
        "pycharm": {}
      },
      "source": [
        "## Generating an E-mail for the Participants\n",
        "\n",
        "With the best day for Abruptly Goblins! determined with computer precision, we need to let the attendees know that the game night is on a night they can attend. Let\u0027s start by creating a form email to send to each of the participants that we\u0027ll fill out with data later.\n",
        "\n",
        "**Instructions**\n",
        "\n",
        "Define a string, called `form_email` with interpolation variables `{name}`, `{day_of_week}`, and `{game}` (in case we decide we want to use this featureset to host a different game night). Use it to tell your gaming attendees the night their Abruptly Goblins! game can be played."
      ]
    },
    {
      "cell_type": "code",
      "execution_count": 89,
      "metadata": {
        "pycharm": {
          "is_executing": false
        }
      },
      "outputs": [],
      "source": "form_email \u003d \"\"\"\n    Hi {name}, you\u0027re invited to play {game} on {day_of_week}.\n    \"\"\""
    },
    {
      "cell_type": "markdown",
      "source": "**Instructions**\n\nCreate a function `send_email` with three parameters: `gamers_who_can_attend`, `day`, and `game`. Print `form_email` for each gamer in `gamers_who_can_attend` with the appropriate `day` and `game`.\nCall `send_email` with `attending_game_night`, `game_night`, and `\"Abruptly Goblins!\"`.",
      "metadata": {
        "pycharm": {
          "metadata": false
        }
      }
    },
    {
      "cell_type": "code",
      "execution_count": 90,
      "metadata": {
        "pycharm": {
          "is_executing": false
        }
      },
      "outputs": [
        {
          "name": "stdout",
          "text": [
            "\n    Hi Thomas Nelson, you\u0027re invited to play Abruptly Goblins! on Thursday.\n    \n\n    Hi Michelle Reyes, you\u0027re invited to play Abruptly Goblins! on Thursday.\n    \n\n    Hi Stephen Adams, you\u0027re invited to play Abruptly Goblins! on Thursday.\n    \n\n    Hi Joanne Lynn, you\u0027re invited to play Abruptly Goblins! on Thursday.\n    \n\n    Hi Crystal Brewer, you\u0027re invited to play Abruptly Goblins! on Thursday.\n    \n\n    Hi James Barnes Jr., you\u0027re invited to play Abruptly Goblins! on Thursday.\n    \n"
          ],
          "output_type": "stream"
        }
      ],
      "source": "def send_email(gamers_who_can_attend, day, game):\n    for gamer in gamers_who_can_attend:\n        print(form_email.format(name \u003d gamer, game \u003d game, day_of_week \u003d day))\n\nsend_email(attending_game_night, game_night, \"Abruptly Goblins!\")"
    },
    {
      "cell_type": "markdown",
      "metadata": {
        "pycharm": {}
      },
      "source": [
        "### Afterward\n",
        "\n",
        "You feel bad for the folks who weren\u0027t able to attend on the decided upon game night, and try to use your currently written methods to have a second game night of the week.\n",
        "\n",
        "**Instructions**\n",
        "\n",
        "* Create a list `unable_to_attend_best_night` of everyone in `gamers` that wasn\u0027t able to attend game night on `game_night`.\n",
        "* Create `second_night_availability` frequency table by calling `build_daily_frequency_table`.\n",
        "* Call `calculate_availability` with `unable_to_attend_best_night` and `second_night_availability`.\n",
        "* Call `find_best_night` with the now filled-in `second_night_availability`, save the results in `second_night`.\n"
      ]
    },
    {
      "cell_type": "code",
      "execution_count": 106,
      "metadata": {
        "pycharm": {
          "is_executing": false
        }
      },
      "outputs": [
        {
          "name": "stdout",
          "text": [
            "[{\u0027name\u0027: \u0027Kimberly Warner\u0027, \u0027availability\u0027: [\u0027Monday\u0027, \u0027Tuesday\u0027, \u0027Friday\u0027]}, {\u0027name\u0027: \u0027Joyce Sellers\u0027, \u0027availability\u0027: [\u0027Monday\u0027, \u0027Wednesday\u0027, \u0027Friday\u0027, \u0027Saturday\u0027]}, {\u0027name\u0027: \u0027Latasha Bryan\u0027, \u0027availability\u0027: [\u0027Monday\u0027, \u0027Sunday\u0027]}, {\u0027name\u0027: \u0027Michel Trujillo\u0027, \u0027availability\u0027: [\u0027Monday\u0027, \u0027Tuesday\u0027, \u0027Wednesday\u0027]}]\n"
          ],
          "output_type": "stream"
        }
      ],
      "source": "unable_to_attend_best_night \u003d [gamer for gamer in gamers if game_night not in gamer.get(\"availability\")]\nprint(unable_to_attend_best_night)\n\nsecond_night_availability \u003d build_daily_frequency_table()\ncalculate_availability(unable_to_attend_best_night, second_night_availability)\nsecond_night \u003d find_best_night(second_night_availability)"
    },
    {
      "cell_type": "markdown",
      "metadata": {
        "pycharm": {
          "name": "#%% md\n"
        }
      },
      "source": "Let\u0027s send out an email to everyone (whether they can attend the first night or not) whose marked themselves as available on our second game night.\n\n**Instructions**\n\n* Create the list `available_second_game_night` by calling `available_on_night` with `gamers` and `second_night`\n* Let the gamers know by calling `send_email` with `available_second_game_night`, `second_night`, and \"Abruptly Goblins!\""
    },
    {
      "cell_type": "code",
      "execution_count": 107,
      "metadata": {
        "pycharm": {
          "is_executing": false
        }
      },
      "outputs": [
        {
          "name": "stdout",
          "text": [
            "\n    Hi Kimberly Warner, you\u0027re invited to play Abruptly Goblins! on Monday.\n    \n\n    Hi Joyce Sellers, you\u0027re invited to play Abruptly Goblins! on Monday.\n    \n\n    Hi Joanne Lynn, you\u0027re invited to play Abruptly Goblins! on Monday.\n    \n\n    Hi Latasha Bryan, you\u0027re invited to play Abruptly Goblins! on Monday.\n    \n\n    Hi Michel Trujillo, you\u0027re invited to play Abruptly Goblins! on Monday.\n    \n"
          ],
          "output_type": "stream"
        }
      ],
      "source": "available_second_game_night \u003d available_on_night(gamers, second_night)\nsend_email(available_second_game_night, second_night, \"Abruptly Goblins!\")\n"
    }
  ],
  "metadata": {
    "kernelspec": {
      "display_name": "Python 3",
      "language": "python",
      "name": "python3"
    },
    "language_info": {
      "codemirror_mode": {
        "name": "ipython",
        "version": 3
      },
      "file_extension": ".py",
      "mimetype": "text/x-python",
      "name": "python",
      "nbconvert_exporter": "python",
      "pygments_lexer": "ipython3",
      "version": "3.6.4"
    }
  },
  "nbformat": 4,
  "nbformat_minor": 2
}